{
 "cells": [
  {
   "cell_type": "code",
   "execution_count": 7,
   "id": "4aeeac45-c238-425f-aa2d-a730ba888d50",
   "metadata": {},
   "outputs": [
    {
     "name": "stdout",
     "output_type": "stream",
     "text": [
      "[10, 20, 30, 40, 50, 60, 70, 80, 200, 300]\n",
      "[20, 40, 50, 60, 70, 80, 200, 300]\n",
      "[20, 40, 50, 60, 70, 80, 200, 300]\n",
      "[300, 200, 80, 70, 60, 50, 40, 20]\n"
     ]
    }
   ],
   "source": [
    "# Q1\n",
    "L = [10, 20, 30, 40, 50, 60, 70, 80]\n",
    "\n",
    "# i. Adding 200 and 300 to L\n",
    "L.append(200)\n",
    "L.append(300)\n",
    "print(L)\n",
    "\n",
    "# ii. Removing 10 and 30 from L\n",
    "L.remove(10)\n",
    "L.remove(30)\n",
    "print(L)\n",
    "# iii. Sorting L in ascending order\n",
    "L.sort()\n",
    "print(L)\n",
    "# iv. Sorting L in descending order\n",
    "L.sort(reverse=True)\n",
    "\n",
    "print(L)\n"
   ]
  },
  {
   "cell_type": "code",
   "execution_count": 9,
   "id": "aebb9ca7-64d1-45d4-8010-b6d5e04b93c5",
   "metadata": {},
   "outputs": [
    {
     "name": "stdout",
     "output_type": "stream",
     "text": [
      "Highest score: 92, Index: 5\n",
      "Lowest score: 45, Count: 2\n",
      "Reversed tuple as list: [45, 58, 92, 89, 45.4, 76, 89.5, 45]\n",
      "The score 76 is present at index 2.\n"
     ]
    }
   ],
   "source": [
    "# Q2\n",
    "scores = (45, 89.5, 76, 45.4, 89, 92, 58, 45)\n",
    "\n",
    "# i. Identify the highest score and its index\n",
    "highest_score = max(scores)\n",
    "highest_score_index = scores.index(highest_score)\n",
    "print(f\"Highest score: {highest_score}, Index: {highest_score_index}\")\n",
    "# ii. Find the lowest score and count how many times it appears\n",
    "lowest_score = min(scores)\n",
    "lowest_count = scores.count(lowest_score)\n",
    "print(f\"Lowest score: {lowest_score}, Count: {lowest_count}\")\n",
    "# iii. Reverse the tuple and return it as a list\n",
    "reversed_scores = list(scores[::-1])\n",
    "print(\"Reversed tuple as list:\", reversed_scores)\n",
    "# iv. Check if a specific score is present and print its first occurrence index\n",
    "specific_score = 76\n",
    "if specific_score in scores:\n",
    "    specific_score_index = scores.index(specific_score)\n",
    "    print(f\"The score {specific_score} is present at index {specific_score_index}.\")\n",
    "else:\n",
    "    print(f\"The score {specific_score} is not present in the tuple.\")\n"
   ]
  },
  {
   "cell_type": "code",
   "execution_count": 10,
   "id": "17b10395-0c4a-4a6e-80b2-5f686c03426a",
   "metadata": {},
   "outputs": [
    {
     "name": "stdout",
     "output_type": "stream",
     "text": [
      "Odd numbers count: 46\n",
      "Even numbers count: 54\n",
      "Prime numbers count: 13\n"
     ]
    }
   ],
   "source": [
    "# Q3\n",
    "\n",
    "import random\n",
    "\n",
    "# Creating a list of 100 random numbers between 100 and 900\n",
    "random_numbers = [random.randint(100, 900) for _ in range(100)]\n",
    "\n",
    "# i. All odd numbers\n",
    "odd_numbers = [num for num in random_numbers if num % 2 != 0]\n",
    "print(\"Odd numbers count:\", len(odd_numbers))\n",
    "# ii. All even numbers\n",
    "even_numbers = [num for num in random_numbers if num % 2 == 0]\n",
    "print(\"Even numbers count:\", len(even_numbers))\n",
    "# iii. All prime numbers\n",
    "def is_prime(n):\n",
    "    if n < 2:\n",
    "        return False\n",
    "    for i in range(2, int(n ** 0.5) + 1):\n",
    "        if n % i == 0:\n",
    "            return False\n",
    "    return True\n",
    "\n",
    "prime_numbers = [num for num in random_numbers if is_prime(num)]\n",
    "print(\"Prime numbers count:\", len(prime_numbers))\n"
   ]
  },
  {
   "cell_type": "code",
   "execution_count": 13,
   "id": "20b25f05-8930-4cde-888b-c35d6f032d5d",
   "metadata": {},
   "outputs": [
    {
     "name": "stdout",
     "output_type": "stream",
     "text": [
      "Unique scores: {34, 45, 78, 23, 56, 90}\n",
      "Common scores: {90, 78}\n",
      "Exclusive scores: {34, 45, 23, 56}\n",
      "Is A a subset of B? False\n",
      "Is B a superset of A? False\n"
     ]
    },
    {
     "name": "stdin",
     "output_type": "stream",
     "text": [
      "Enter a score to remove from set A:  34\n"
     ]
    },
    {
     "name": "stdout",
     "output_type": "stream",
     "text": [
      "Score 34 removed from set A.\n",
      "Set A after removal: {56, 90, 78}\n"
     ]
    }
   ],
   "source": [
    "# Q4\n",
    "# Defining sets A and B\n",
    "A = {34, 56, 78, 90}\n",
    "B = {78, 45, 90, 23}\n",
    "\n",
    "# i. Unique scores (Union)\n",
    "unique_scores = A.union(B)\n",
    "print(\"Unique scores:\", unique_scores)\n",
    "# ii. Common scores (Intersection)\n",
    "common_scores = A.intersection(B)\n",
    "print(\"Common scores:\", common_scores)\n",
    "# iii. Scores exclusive to each team (Symmetric Difference)\n",
    "exclusive_scores = A.symmetric_difference(B)\n",
    "print(\"Exclusive scores:\", exclusive_scores)\n",
    "# iv. Check subset and superset relationships\n",
    "is_A_subset_B = A.issubset(B)\n",
    "is_B_superset_A = B.issuperset(A)\n",
    "print(f\"Is A a subset of B? {is_A_subset_B}\")\n",
    "print(f\"Is B a superset of A? {is_B_superset_A}\")\n",
    "# v. Remove a specific score X from A if it exists\n",
    "X = int(input(\"Enter a score to remove from set A: \"))\n",
    "if X in A:\n",
    "    A.remove(X)\n",
    "    print(f\"Score {X} removed from set A.\")\n",
    "else:\n",
    "    print(f\"Score {X} is not present in set A.\")\n",
    "print(\"Set A after removal:\", A)\n"
   ]
  },
  {
   "cell_type": "code",
   "execution_count": 14,
   "id": "c5b747a1-bb7d-418f-85bb-676453417a9c",
   "metadata": {},
   "outputs": [
    {
     "name": "stdout",
     "output_type": "stream",
     "text": [
      "{'name': 'Kelly', 'age': 25, 'salary': 8000, 'location': 'New york'}\n"
     ]
    }
   ],
   "source": [
    "# Q5\n",
    "sample_dict = {\n",
    "    \"name\": \"Kelly\",\n",
    "    \"age\": 25,\n",
    "    \"salary\": 8000,\n",
    "    \"city\": \"New york\"\n",
    "}\n",
    "\n",
    "# Rename 'city' to 'location'\n",
    "sample_dict[\"location\"] = sample_dict.pop(\"city\")\n",
    "\n",
    "# Print the updated dictionary\n",
    "print(sample_dict)\n"
   ]
  },
  {
   "cell_type": "code",
   "execution_count": null,
   "id": "0bfd0d75-70ed-4cbd-bc19-a9ea70bd394c",
   "metadata": {},
   "outputs": [],
   "source": []
  }
 ],
 "metadata": {
  "kernelspec": {
   "display_name": "Python 3 (ipykernel)",
   "language": "python",
   "name": "python3"
  },
  "language_info": {
   "codemirror_mode": {
    "name": "ipython",
    "version": 3
   },
   "file_extension": ".py",
   "mimetype": "text/x-python",
   "name": "python",
   "nbconvert_exporter": "python",
   "pygments_lexer": "ipython3",
   "version": "3.13.1"
  }
 },
 "nbformat": 4,
 "nbformat_minor": 5
}
